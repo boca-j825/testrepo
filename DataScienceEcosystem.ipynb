{
 "cells": [
  {
   "cell_type": "markdown",
   "id": "307cda54-a35d-4c53-99df-86a463c8856b",
   "metadata": {},
   "source": [
    "# Data Science Tools and Ecosystem"
   ]
  },
  {
   "cell_type": "markdown",
   "id": "6fccb459-8149-44b5-b35a-a34388bd723f",
   "metadata": {},
   "source": [
    "## Author\n",
    "Jacob Weyand"
   ]
  },
  {
   "cell_type": "markdown",
   "id": "c4798c02-4c06-4290-8266-659a3fcaa79b",
   "metadata": {},
   "source": [
    "In this notebook, Data Science Tools and Ecosystems are summarized."
   ]
  },
  {
   "cell_type": "markdown",
   "id": "7e77e4ef-4799-4882-8fe8-e4ee6576c045",
   "metadata": {},
   "source": [
    "**Objectives:**\n",
    "- Learn the tasks that a data scientist needs to perform to build a model\n",
    "- Identify the criteria and roles for determining the language to learn\n",
    "- Learn how to use the notebooks in JupyterLab and how to work with different kernels\n",
    "- Use the inbuilt R plot function\n",
    "- Understand the purpose of data repositories and the function of GitHub"
   ]
  },
  {
   "cell_type": "markdown",
   "id": "70f56dec-8b47-4f47-b629-0481757d8f62",
   "metadata": {},
   "source": [
    "Some of the popular languages that Data Scientists use are:\n",
    "1. Python\n",
    "2. R\n",
    "3. Julia"
   ]
  },
  {
   "cell_type": "markdown",
   "id": "b146f316-413e-4c05-b361-302ccf438053",
   "metadata": {},
   "source": [
    "Some of the commonly used libraries used by Data Scientists include:\n",
    "- Matplotlib\n",
    "- Vegas\n",
    "- Pandas\n",
    "- ggplot2"
   ]
  },
  {
   "cell_type": "markdown",
   "id": "e85b8ca9-dafd-4ef8-83d1-b48707f6abc0",
   "metadata": {},
   "source": [
    "|Data Science Tools|\n",
    "|------------------|\n",
    "|Jupyter Lab|\n",
    "|RStudio|\n",
    "|Apache Spark|\n",
    "|KNIME|"
   ]
  },
  {
   "cell_type": "markdown",
   "id": "6baeeabe-c17b-4b5d-bc49-f24dc9b33a5e",
   "metadata": {},
   "source": [
    "### Below are a few examples of evaluating arithmetic expressions in Python."
   ]
  },
  {
   "cell_type": "code",
   "execution_count": 21,
   "id": "2e1216e7-f310-4600-80e9-7d2f399bb3e2",
   "metadata": {},
   "outputs": [
    {
     "data": {
      "text/plain": [
       "17"
      ]
     },
     "execution_count": 21,
     "metadata": {},
     "output_type": "execute_result"
    }
   ],
   "source": [
    "# This is a simple arithmetic expression to multiply then add integers.\n",
    "(3*4)+5"
   ]
  },
  {
   "cell_type": "code",
   "execution_count": 23,
   "id": "3f19f342-7c76-4e95-8176-8b2712b2b357",
   "metadata": {},
   "outputs": [
    {
     "data": {
      "text/plain": [
       "3.3333333333333335"
      ]
     },
     "execution_count": 23,
     "metadata": {},
     "output_type": "execute_result"
    }
   ],
   "source": [
    "# This will convert 200 minutes to hours by dividing by 60\n",
    "200/60"
   ]
  },
  {
   "cell_type": "code",
   "execution_count": 25,
   "id": "65f8b916-254d-4613-a95c-3e0760b4db9a",
   "metadata": {},
   "outputs": [
    {
     "data": {
      "text/plain": [
       "3"
      ]
     },
     "execution_count": 25,
     "metadata": {},
     "output_type": "execute_result"
    }
   ],
   "source": [
    "# And if we just wanted a rounded integer for the hours:\n",
    "200//60"
   ]
  },
  {
   "cell_type": "code",
   "execution_count": null,
   "id": "d85e0b42-6d63-4c16-a06f-3313d0554045",
   "metadata": {},
   "outputs": [],
   "source": []
  }
 ],
 "metadata": {
  "kernelspec": {
   "display_name": "Python [conda env:base] *",
   "language": "python",
   "name": "conda-base-py"
  },
  "language_info": {
   "codemirror_mode": {
    "name": "ipython",
    "version": 3
   },
   "file_extension": ".py",
   "mimetype": "text/x-python",
   "name": "python",
   "nbconvert_exporter": "python",
   "pygments_lexer": "ipython3",
   "version": "3.12.7"
  }
 },
 "nbformat": 4,
 "nbformat_minor": 5
}
